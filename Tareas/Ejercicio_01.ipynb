{
 "cells": [
  {
   "cell_type": "markdown",
   "id": "0d73700d-0e6b-4a7c-85c6-ee7bc62be463",
   "metadata": {},
   "source": [
    "# Ejercicio\n",
    "## Situación:\n",
    "Se tiene una empresa con programadores, secretarias y gerentes. Los programadores y las secretarias reciben un sueldo base más un bono por antigüedad de \\$1000 por año trabajado y los gerentes solo reciben su salario.  \n",
    "Para subirlos al sistema, se conoce la antigüedad ( solo para programadores y secretarias), el nombre y el puesto de la persona. Las clases que modelen el sistema deben incluir un método que calcule el salario adecuadamente. \n",
    "### Salarios\n",
    "\n",
    "- Gerentes: __\\$50,000__  \n",
    "- Secretarias: __\\$15,000__  \n",
    "- Programadores: __\\$25,000__  \n",
    "\n",
    "\n",
    "### Objetivos\n",
    "1. Modela las clases necesarias para representar esta situación.\n",
    "2. Programar las clases utilizando herencia.\n",
    "3. Crear una prueba en la que se generen uno de cada tipo de empleado y se impriman sus datos."
   ]
  },
  {
   "cell_type": "code",
   "execution_count": 9,
   "id": "42dc01e7-1c20-4367-8780-7581d3b3b31d",
   "metadata": {},
   "outputs": [],
   "source": [
    "class Empleado:# Es una super clase\n",
    "    # ATRIBUTO\n",
    "    nombre: str\n",
    "    puesto: str\n",
    "    # MÉTODO\n",
    "    def __init__(self, nombre, puesto):\n",
    "        \n",
    "        self.nombre = nombre\n",
    "        self.puesto = puesto\n",
    "        \n",
    "        if puesto == \"Secretaria\":\n",
    "            self.salario = 15_000\n",
    "        elif puesto == \"Programador\":\n",
    "            self.salario = 25_000\n",
    "        else: \n",
    "            self.salario = 50_000\n",
    "    \n",
    "   \n",
    "    def __repr__(self):\n",
    "        return \"Nombre: \" + self.nombre + \", Puesto: \" + (self.puesto) + \", Salario: \" + str(self.salario)\n",
    "    \n",
    "        \n",
    "class Gerente(Empleado):# Es una subclase de \"Empleado\"\n",
    "    # ATRIBUTO\n",
    "    # MÉTODO\n",
    "    def __repr__(self):\n",
    "        return str(self.salario)\n",
    "    \n",
    "class Bono(Empleado):# Es una subclase de \"Empleado\" y a la vez es una super clase\n",
    "    # ATRIBUTO\n",
    "    año: int\n",
    "    # MÉTODO\n",
    "    def __init__(self, nombre, puesto, año):\n",
    "        self.año= año\n",
    "        super().__init__(nombre,puesto)\n",
    "        self.salario= (año*1_000) + self.salario\n",
    "        \n",
    "    def __repr__(self):\n",
    "        return \"Nombre: \" + self.nombre + \", Puesto: \" + (self.puesto) + \", Antigüedad: \" + str(self.año) + \", Salario: \" + str(self.salario)\n",
    "        \n",
    "class Secretaria(Bono):# Es una subclase de \"Bono\"\n",
    "    # ATRIBUTO\n",
    "    # MÉTODO\n",
    "    pass\n",
    "class Programador(Bono):# Es una subclase de \"Bono\"\n",
    "    # ATRIBUTO\n",
    "    # MÉTODO\n",
    "    pass    "
   ]
  },
  {
   "cell_type": "code",
   "execution_count": 10,
   "id": "e7043a93-04f3-4472-9f69-fd290b702c48",
   "metadata": {},
   "outputs": [
    {
     "name": "stdout",
     "output_type": "stream",
     "text": [
      "Nombre: Andrés, Puesto: Gerente, Salario: 50000\n",
      "Nombre: Fulana, Puesto: Secretaria, Antigüedad: 5, Salario: 20000\n",
      "Nombre: Ana, Puesto: Programador, Antigüedad: 10, Salario: 35000\n"
     ]
    }
   ],
   "source": [
    "E1= Empleado(\"Andrés\", \"Gerente\")\n",
    "E2= Bono(\"Fulana\", \"Secretaria\", 5)\n",
    "E3= Bono(\"Ana\", \"Programador\", 10)\n",
    "\n",
    "print(E1)\n",
    "for bono in (E2, E3):\n",
    "    print (bono)"
   ]
  },
  {
   "cell_type": "code",
   "execution_count": null,
   "id": "ae21f2e5-4535-4375-a1bb-c4f95d46583b",
   "metadata": {},
   "outputs": [],
   "source": []
  }
 ],
 "metadata": {
  "kernelspec": {
   "display_name": "Python 3 (ipykernel)",
   "language": "python",
   "name": "python3"
  },
  "language_info": {
   "codemirror_mode": {
    "name": "ipython",
    "version": 3
   },
   "file_extension": ".py",
   "mimetype": "text/x-python",
   "name": "python",
   "nbconvert_exporter": "python",
   "pygments_lexer": "ipython3",
   "version": "3.10.2"
  }
 },
 "nbformat": 4,
 "nbformat_minor": 5
}
