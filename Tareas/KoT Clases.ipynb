{
 "cells": [
  {
   "cell_type": "markdown",
   "id": "c3466cbc-585e-4714-9867-976166f73002",
   "metadata": {},
   "source": [
    "# King of Tokyo\n",
    "![Kingoftokyo](https://images.jumpseller.com/store/sigad/12541688/pic6125357.jpg?1642081091)\n"
   ]
  },
  {
   "cell_type": "markdown",
   "id": "d1be173d-bb9c-4e34-aec4-6a21be217692",
   "metadata": {},
   "source": [
    "## Diagrama de clases\n",
    "### Juego"
   ]
  },
  {
   "cell_type": "code",
   "execution_count": 18,
   "id": "03aa7c71-f07b-47a3-885e-d92df32c3935",
   "metadata": {},
   "outputs": [],
   "source": [
    "class Juego: \n",
    "    # ATRIBUTOS\n",
    "    cantidad_jugadores: chr\n",
    "    # MÉTODOS\n",
    "    def iniciar(): pass\n",
    "    def pausar(): pass\n",
    "    def reanudar(): pass\n",
    "    def terminar(): pass\n",
    "    # RELACIONES\n",
    "    dados: Dados # 1 juego tiene 6 dados\n",
    "    jugadores: Jugador # 1 juego tiene de 2 a 4 jugadores\n",
    "    tokyo: Tokyo # El juego contiene a Tokyo\n",
    "    tienda: Tienda # 1 juego tiene 1 tienda"
   ]
  },
  {
   "cell_type": "markdown",
   "id": "ac646e6c-23a9-4cf1-a0bc-0f5ed671fda5",
   "metadata": {},
   "source": [
    "### Jugador"
   ]
  },
  {
   "cell_type": "code",
   "execution_count": 16,
   "id": "7df83a98-b55d-4fde-a71d-bb147be5dc2b",
   "metadata": {},
   "outputs": [],
   "source": [
    "class Jugador:\n",
    "    # ATRIBUTOS\n",
    "    nickname: str\n",
    "    turno: bool\n",
    "    monstruo: str\n",
    "    contador_puntos: chr\n",
    "    contador_vida: chr\n",
    "    # MÉTODOS\n",
    "    def tirar_dados(): pass\n",
    "    def elegir_dados(): pass\n",
    "    def siguiente_tiro():pass\n",
    "    def terminar_tiros(): pass\n",
    "    def salir_de_tokyo(): pass\n",
    "    def comprar_carta(): pass\n",
    "    def usar_carta(): pass\n",
    "    def reestablecer_tienda(): pass\n",
    "    # RELACIONES\n",
    "    tokens: Tokens # 1 jugador tiene de 0 a X tokens\n",
    "    cartas: Cartas # 1 jugador tiene de 0 a X cartas"
   ]
  },
  {
   "cell_type": "markdown",
   "id": "89a98f4f-306e-4886-94bb-c4fe1856602b",
   "metadata": {},
   "source": [
    "### Dados"
   ]
  },
  {
   "cell_type": "code",
   "execution_count": 7,
   "id": "7bc76500-9fb9-4b82-b9fa-97f07251c55d",
   "metadata": {},
   "outputs": [],
   "source": [
    "class Dados:\n",
    "    # ATRIBUTOS\n",
    "    valor: chr\n",
    "    simbolo: chr\n",
    "    # MÉTODOS\n",
    "    def recuperar_vida(): pass\n",
    "    def dar_tokens(): pass\n",
    "    def atacar(): pass\n",
    "    def dar_puntos(): pass\n",
    "    # RELACIONES"
   ]
  },
  {
   "cell_type": "markdown",
   "id": "5aedf294-ad10-4e9d-8d72-ab08f70cf087",
   "metadata": {},
   "source": [
    "### Tokens"
   ]
  },
  {
   "cell_type": "code",
   "execution_count": 10,
   "id": "d3e5e388-d093-4e4b-9af6-d96b864ceeeb",
   "metadata": {},
   "outputs": [],
   "source": [
    "class Tokens:\n",
    "    # ATRIBUTOS\n",
    "    valor: chr\n",
    "    # MÉTODOS\n",
    "    # RELACIONES"
   ]
  },
  {
   "cell_type": "markdown",
   "id": "2214797b-0d3b-42d6-a62e-12307ebc30fe",
   "metadata": {},
   "source": [
    "### Tienda"
   ]
  },
  {
   "cell_type": "code",
   "execution_count": 22,
   "id": "ddc52d07-36d0-4170-b3a4-0ef05e8f4957",
   "metadata": {},
   "outputs": [],
   "source": [
    "class Tienda: \n",
    "    # ATRIBUTOS\n",
    "    # MÉTODOS\n",
    "    def dar_carta(): pass\n",
    "    def quitar_tokens(): pass\n",
    "    def mostrar_cartas(): pass\n",
    "    # RELACIONES\n",
    "    cartas: Cartas # 1 tienda tiene X cartas"
   ]
  },
  {
   "cell_type": "markdown",
   "id": "4d326747-4005-47f5-acb6-a205cee2dbfc",
   "metadata": {},
   "source": [
    "### Cartas"
   ]
  },
  {
   "cell_type": "code",
   "execution_count": 21,
   "id": "d388164f-6b07-4247-8b80-efdef1d26394",
   "metadata": {},
   "outputs": [],
   "source": [
    "class Cartas:\n",
    "    # ATRIBUTOS\n",
    "    tipo: str\n",
    "    costo: chr\n",
    "    def accion(): pass\n",
    "    # RELACIONES"
   ]
  },
  {
   "cell_type": "markdown",
   "id": "799b8d31-1303-443f-a86d-9d31bafe9b20",
   "metadata": {},
   "source": [
    "### Tokyo"
   ]
  },
  {
   "cell_type": "code",
   "execution_count": 15,
   "id": "42fc7ef1-1d79-44f5-8640-ab715a12ceb8",
   "metadata": {},
   "outputs": [],
   "source": [
    "class Tokyo:\n",
    "    # ATRIBUTOS\n",
    "    tiene_un_jugador: str\n",
    "    # MÉTODOS\n",
    "    def dar_puntos(): pass\n",
    "    def recibir_jugador(): pass\n",
    "    # RELACIONES"
   ]
  },
  {
   "cell_type": "code",
   "execution_count": null,
   "id": "1e51b5b5-cf61-46f7-bca2-5b1b2732cf3d",
   "metadata": {},
   "outputs": [],
   "source": []
  }
 ],
 "metadata": {
  "kernelspec": {
   "display_name": "Python 3 (ipykernel)",
   "language": "python",
   "name": "python3"
  },
  "language_info": {
   "codemirror_mode": {
    "name": "ipython",
    "version": 3
   },
   "file_extension": ".py",
   "mimetype": "text/x-python",
   "name": "python",
   "nbconvert_exporter": "python",
   "pygments_lexer": "ipython3",
   "version": "3.10.2"
  }
 },
 "nbformat": 4,
 "nbformat_minor": 5
}
